{
 "cells": [
  {
   "cell_type": "code",
   "execution_count": null,
   "id": "e9783879-7657-4a19-8c71-e8bd2a4b4eb6",
   "metadata": {},
   "outputs": [],
   "source": [
    "# %% Imports\n",
    "\n",
    "import json\n",
    "import datetime\n",
    "from simple_salesforce import Salesforce\n",
    "import pandas as pd\n",
    "import os\n",
    "import csv\n",
    "from io import StringIO\n",
    "from entities import SF_Credentials"
   ]
  },
  {
   "cell_type": "code",
   "execution_count": null,
   "id": "95359b1d-0fcb-4acf-bda6-e58069b4c921",
   "metadata": {},
   "outputs": [],
   "source": [
    "# %% DatePresets class\n",
    "\n",
    "class DatePresets:\n",
    "    def __init__(self):\n",
    "        self.date_presets = self._generate_date_presets()\n",
    "\n",
    "    def _generate_date_presets(self):\n",
    "        today = datetime.datetime.now(tz=datetime.timezone.utc)\n",
    "        return {\n",
    "            \"last_30d\": {\"start\": today - datetime.timedelta(days=30), \"end\": today},\n",
    "            \"last_7d\": {\"start\": today - datetime.timedelta(days=7), \"end\": today},\n",
    "            \"last_24h\": {\"start\": today - datetime.timedelta(days=1), \"end\": today},\n",
    "            \"last_week\": {\"start\": today - datetime.timedelta(days=7), \"end\": today},\n",
    "            \"yesterday\": {\"start\": today - datetime.timedelta(days=1), \"end\": today},\n",
    "        }\n",
    "\n",
    "    def get_presets(self):\n",
    "        return self.date_presets"
   ]
  },
  {
   "cell_type": "code",
   "execution_count": null,
   "id": "4a663342-edf4-4e2d-87f2-c15400a0e717",
   "metadata": {},
   "outputs": [],
   "source": [
    "# %% SalesforceConnector class with singleton pattern\n",
    "\n",
    "class SalesforceConnector:\n",
    "    _instance = None\n",
    "\n",
    "    def __new__(cls, *args, **kwargs):\n",
    "        if cls._instance is None:\n",
    "            cls._instance = super(SalesforceConnector, cls).__new__(cls)\n",
    "        return cls._instance\n",
    "\n",
    "    def __init__(self):\n",
    "        if not hasattr(self, \"sf\"):\n",
    "            self.sf = self.connect_to_salesforce()\n",
    "\n",
    "    def connect_to_salesforce(self):\n",
    "        if not hasattr(self, 'SF_Credentials'):\n",
    "            self.SF_Credentials = SF_Credentials()\n",
    "        return Salesforce(\n",
    "            username=self.SF_Credentials.SALESFORCE_USERNAME,\n",
    "            password=self.SF_Credentials.SALESFORCE_PASSWORD,\n",
    "            security_token=self.SF_Credentials.SALESFORCE_TOKEN,\n",
    "            instance_url=self.SF_Credentials.SALESFORCE_INSTANCE,\n",
    "        )"
   ]
  },
  {
   "cell_type": "code",
   "execution_count": null,
   "id": "ba07e476-bbd6-4385-a2ba-465bd62bc979",
   "metadata": {},
   "outputs": [],
   "source": [
    "# %% QueryConstructor class\n",
    "\n",
    "class QueryConstructor:\n",
    "    def __init__(self, api_name, fields_names=None, conditions_dict=None, start_date=None, end_date=None):\n",
    "        self.api_name = api_name\n",
    "        self.fields_names = fields_names\n",
    "        self.conditions_dict = conditions_dict\n",
    "        self.start_date = start_date\n",
    "        self.end_date = end_date\n",
    "\n",
    "    def construct_query(self) -> str:\n",
    "        query_fields = self.construct_fields()\n",
    "        query_where = self.construct_where()\n",
    "        return f\"{query_fields} FROM {self.api_name} {query_where}\"\n",
    "\n",
    "    def construct_fields(self) -> str:\n",
    "        compound_fields = [\"BillingAddress\", \"ShippingAddress\", \"Geolocation\"]\n",
    "        field_names = [field for field in self.fields_names if field not in compound_fields]\n",
    "        return f\"SELECT {', '.join(field_names)}\"\n",
    "\n",
    "    def format_date(self, date: datetime.datetime) -> str:\n",
    "        return date.strftime(\"%Y-%m-%dT%H:%M:%S.000Z\")\n",
    "\n",
    "    def construct_where(self) -> str:\n",
    "        where_clauses = []\n",
    "        if self.start_date and self.end_date:\n",
    "            where_clauses.append(\n",
    "                f\"LastModifiedDate >= '{self.format_date(self.start_date)}' AND LastModifiedDate <= '{self.format_date(self.end_date)}'\"\n",
    "            )\n",
    "        if self.conditions_dict:\n",
    "            for field, condition in self.conditions_dict.items():\n",
    "                condition_str = f\"{field} IN ({', '.join([f'\\'{item}\\'' for item in condition])})\"\n",
    "                where_clauses.append(condition_str)\n",
    "        return f\"WHERE {' AND '.join(where_clauses)}\" if where_clauses else \"\""
   ]
  },
  {
   "cell_type": "code",
   "execution_count": null,
   "id": "7fce11ad-d9f2-40dd-8910-7a7331dbb5e1",
   "metadata": {},
   "outputs": [],
   "source": [
    "# %% LitifyObject class\n",
    "\n",
    "class LitifyObject:\n",
    "    def __init__(self, api_name):\n",
    "        self.sf = SalesforceConnector().sf\n",
    "        self.api_name = api_name\n",
    "        self.description = self.get_description()\n",
    "        self.label = self.description[\"label\"]\n",
    "        self.fields = self.get_all_fields()\n",
    "        self.date_presets = DatePresets().get_presets()\n",
    "        self.df_records = None\n",
    "        self.recent_updated = None\n",
    "        print(\"Object created\")\n",
    "\n",
    "    def get_description(self):\n",
    "        print(\"Fetching description...\", end=\"\")\n",
    "        self.description = self.sf.__getattr__(self.api_name).describe()\n",
    "        print(\"Done\")\n",
    "        return self.description\n",
    "\n",
    "    def get_all_fields(self):\n",
    "        print(\"Fetching fields...\", end=\"\")\n",
    "        self.fields = [field[\"name\"] for field in self.description[\"fields\"]]\n",
    "        print(\"Done\")\n",
    "        return self.fields\n",
    "\n",
    "    def csv_string_to_dict(self, csv_string):\n",
    "        csv_file = StringIO(csv_string)\n",
    "        reader = csv.DictReader(csv_file)\n",
    "        return list(reader)\n",
    "\n",
    "    def write_dict_results_in_file(self, result_in_dict, root_path, filename=None):\n",
    "        if os.path.exists(f\"{root_path}/{filename}.json\") and os.path.exists(f\"{root_path}/{filename}.csv\"):\n",
    "            os.remove(f\"{root_path}/{filename}.json\")\n",
    "            os.remove(f\"{root_path}/{filename}.csv\")\n",
    "\n",
    "        with open(f\"{root_path}/{filename}.json\", \"a\", encoding=\"utf-8-sig\") as jsonfile, \\\n",
    "             open(f\"{root_path}/{filename}.csv\", \"a\", newline=\"\", encoding=\"utf-8-sig\") as csvfile:\n",
    "                csv_writer = None\n",
    "                for row in result_in_dict:\n",
    "                    json.dump(row, jsonfile, indent=4)\n",
    "                    jsonfile.write(\"\\n\")\n",
    "                    if csv_writer is None:\n",
    "                        csv_writer = csv.DictWriter(csvfile, fieldnames=row.keys())\n",
    "                        csv_writer.writeheader()\n",
    "                    csv_writer.writerow(row)\n",
    "\n",
    "    def write_results_in_file(self, result, root_path, filename=None):\n",
    "        if not os.path.exists(root_path):\n",
    "            os.makedirs(root_path)\n",
    "\n",
    "        if filename is None:\n",
    "            filename = f'{self.api_name}_data'\n",
    "            \n",
    "        if isinstance(result, list):\n",
    "            self.write_dict_results_in_file(result, root_path, filename)\n",
    "        else:\n",
    "            print('second condition')\n",
    "            for x in result:\n",
    "                print(f'type of x', type(x)) \n",
    "                list_results_in_dict = self.csv_string_to_dict(x)\n",
    "                for dictionary in list_results_in_dict:\n",
    "                    self.write_dict_results_in_file(dictionary, root_path, filename)\n",
    "\n",
    "    def get_updated_records(self, date_preset: str) -> dict:\n",
    "        from_date = self.date_presets[date_preset].get(\"start\")\n",
    "        to_date = self.date_presets[date_preset].get(\"end\")\n",
    "        start = from_date.strftime(\"%Y-%m-%dT%H:%M:%S.000Z\")\n",
    "        end = to_date.strftime(\"%Y-%m-%dT%H:%M:%S.000Z\")\n",
    "        base_url = self.sf.__getattr__(self.api_name).base_url\n",
    "        url = f\"{base_url}updated/?start={start}&end={end}\"\n",
    "        response = self.sf.__getattr__(self.api_name)._call_salesforce(method='GET', url=url, headers=None).json()\n",
    "        self.recent_updated = response\n",
    "        return response\n",
    "\n",
    "    def query_data_bulk1(self, fields_to_query=[], conditions_dict=None, date_range_query=None) -> pd.DataFrame:\n",
    "        if date_range_query:\n",
    "            start_date = date_range_query.get(\"start\")\n",
    "            end_date = date_range_query.get(\"end\")\n",
    "            root_path = f\"results/{self.api_name}/by_date\"\n",
    "            filename = f\"from_{start_date}_to_{end_date}_data\"\n",
    "        else:\n",
    "            root_path = f\"results/{self.api_name}/queries\"\n",
    "            today_formated = datetime.datetime.now().strftime(\"%Y-%m-%d\")\n",
    "            filename = f\"{today_formated}_query_results\"\n",
    "\n",
    "        query = QueryConstructor(self.api_name, fields_to_query, conditions_dict, start_date, end_date).construct_query()\n",
    "        results = self.sf.bulk.__getattr__(self.api_name).query(query, lazy_operation=True)\n",
    "\n",
    "        if not os.path.exists(root_path):\n",
    "            os.makedirs(root_path)\n",
    "        for result in results:\n",
    "            self.write_results_in_file(result, root_path, filename)\n",
    "\n",
    "    def get_all_records(self, fields_to_query=[]) -> pd.DataFrame:\n",
    "        print(\"Fetching data...\", end=\"\")\n",
    "        if self.df_records is not None:\n",
    "            return self.df_records\n",
    "\n",
    "        fields_to_query = fields_to_query or self.fields\n",
    "        query = QueryConstructor(self.api_name, fields_names=fields_to_query).construct_query()\n",
    "        results = self.sf.bulk2.__getattr__(self.api_name).query(\n",
    "            query=query,\n",
    "            max_records=100000,\n",
    "            column_delimiter=\"COMMA\",\n",
    "            line_ending=\"LF\",\n",
    "        )\n",
    "        root_path = f\"results/all_records/{self.api_name}/\"\n",
    "        filename = \"all_records2\"\n",
    "        for result in results:\n",
    "            self.write_results_in_file(result, root_path, filename)\n",
    "        print(\"Done\")\n",
    "\n",
    "    def get_records(self, fields_to_query: list = None, conditions_dict: dict = None, date_preset: str = None, date_range: dict = None) -> pd.DataFrame:\n",
    "        fields_names = fields_to_query or self.fields\n",
    "        date_range_query = self.date_presets.get(date_preset) if date_preset else date_range\n",
    "\n",
    "        if not any([fields_names, conditions_dict, date_preset, date_range]):\n",
    "            return self.get_all_records()  # uses bulk2 api\n",
    "        else:\n",
    "            return self.query_data_bulk1(fields_names, conditions_dict, date_range_query)"
   ]
  },
  {
   "cell_type": "markdown",
   "metadata": {},
   "source": [
    "## Usage example"
   ]
  },
  {
   "cell_type": "markdown",
   "metadata": {},
   "source": [
    "### Initialize"
   ]
  },
  {
   "cell_type": "code",
   "execution_count": null,
   "metadata": {},
   "outputs": [],
   "source": [
    "sf_object = LitifyObject('Account') # API NAME"
   ]
  },
  {
   "cell_type": "markdown",
   "metadata": {},
   "source": [
    "### Get all records"
   ]
  },
  {
   "cell_type": "code",
   "execution_count": null,
   "metadata": {},
   "outputs": [],
   "source": [
    "sf_object.get_records()()"
   ]
  },
  {
   "cell_type": "markdown",
   "metadata": {},
   "source": [
    "### Recent updated records"
   ]
  },
  {
   "cell_type": "code",
   "execution_count": null,
   "metadata": {},
   "outputs": [],
   "source": [
    "ids_modified = sf_object.get_updated_records('last_7d')['ids']"
   ]
  },
  {
   "cell_type": "markdown",
   "metadata": {},
   "source": [
    "### Query data based on conditions"
   ]
  },
  {
   "cell_type": "code",
   "execution_count": null,
   "metadata": {},
   "outputs": [],
   "source": [
    "conditions_dict = {\n",
    "    'Id' : ids_modified\n",
    "}\n",
    "\n",
    "# Important, the WHERE clause will be build using the IN operator, so the conditions_dict must be a dictionary with the field name as key and a list of values as the value \n",
    "\n",
    "\n",
    "sf_object.get_records(conditions_dict=conditions_dict)  ## this will query all fields of the recent ids modified\n"
   ]
  },
  {
   "cell_type": "markdown",
   "metadata": {},
   "source": [
    "### We can also specify specific fields"
   ]
  },
  {
   "cell_type": "code",
   "execution_count": null,
   "metadata": {},
   "outputs": [],
   "source": [
    "fields = ['Id', 'CreatedDate', 'Name' ]\n",
    "\n",
    "sf_object.get_records(fields_to_query=fields, conditions_dict=conditions_dict)  ## this will query only the fields specified"
   ]
  },
  {
   "cell_type": "markdown",
   "metadata": {},
   "source": [
    "## Gather data in a custom date range"
   ]
  },
  {
   "cell_type": "code",
   "execution_count": null,
   "metadata": {},
   "outputs": [],
   "source": [
    "date_range = {\n",
    "    'start': datetime.datetime(2021, 1, 1),\n",
    "    'end': datetime.datetime(2021, 1, 31)\n",
    "}\n",
    "\n",
    "sf_object.get_records(date_range=date_range)  ## this will query all fields of the date range specified"
   ]
  }
 ],
 "metadata": {
  "language_info": {
   "codemirror_mode": {
    "name": "ipython",
    "version": 3
   },
   "file_extension": ".py",
   "mimetype": "text/x-python",
   "name": "python",
   "nbconvert_exporter": "python",
   "pygments_lexer": "ipython3",
   "version": 3
  }
 },
 "nbformat": 4,
 "nbformat_minor": 2
}
